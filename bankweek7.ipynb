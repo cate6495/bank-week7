{
 "cells": [
  {
   "cell_type": "code",
   "execution_count": 1,
   "id": "36ed118f",
   "metadata": {},
   "outputs": [],
   "source": [
    "import numpy as np\n",
    "import pandas as pd"
   ]
  },
  {
   "cell_type": "code",
   "execution_count": 2,
   "id": "3749b16d",
   "metadata": {},
   "outputs": [],
   "source": [
    "df1 = pd.read_csv(\"bank-additional.csv\")"
   ]
  },
  {
   "cell_type": "code",
   "execution_count": 3,
   "id": "9c92516f",
   "metadata": {},
   "outputs": [
    {
     "name": "stdout",
     "output_type": "stream",
     "text": [
      "Dataset length:  4119\n",
      "Dataset shape:  (4119, 21)\n"
     ]
    }
   ],
   "source": [
    "print(\"Dataset length: \", len(df1))\n",
    "print(\"Dataset shape: \", df1.shape)"
   ]
  },
  {
   "cell_type": "code",
   "execution_count": 4,
   "id": "a31ac50c",
   "metadata": {},
   "outputs": [],
   "source": [
    "df2 = pd.read_csv(\"bank-full.csv\")"
   ]
  },
  {
   "cell_type": "code",
   "execution_count": 5,
   "id": "daafcc1d",
   "metadata": {},
   "outputs": [
    {
     "name": "stdout",
     "output_type": "stream",
     "text": [
      "Dataset length:  45211\n",
      "Dataset shape:  (45211, 17)\n"
     ]
    }
   ],
   "source": [
    "print(\"Dataset length: \", len(df2))\n",
    "print(\"Dataset shape: \", df2.shape)"
   ]
  },
  {
   "cell_type": "code",
   "execution_count": 6,
   "id": "fc2c7a0c",
   "metadata": {},
   "outputs": [],
   "source": [
    "df3 = pd.read_csv(\"bank-additional-full.csv\")"
   ]
  },
  {
   "cell_type": "code",
   "execution_count": 7,
   "id": "873066ba",
   "metadata": {},
   "outputs": [
    {
     "name": "stdout",
     "output_type": "stream",
     "text": [
      "Dataset length:  41188\n",
      "Dataset shape:  (41188, 21)\n"
     ]
    }
   ],
   "source": [
    "print(\"Dataset length: \", len(df3))\n",
    "print(\"Dataset shape: \", df3.shape)"
   ]
  },
  {
   "cell_type": "code",
   "execution_count": 8,
   "id": "a98a00ba",
   "metadata": {},
   "outputs": [],
   "source": [
    "df4 = pd.read_csv(\"bank.csv\")"
   ]
  },
  {
   "cell_type": "code",
   "execution_count": 9,
   "id": "6787c635",
   "metadata": {},
   "outputs": [
    {
     "name": "stdout",
     "output_type": "stream",
     "text": [
      "Dataset length:  4521\n",
      "Dataset shape:  (4521, 1)\n"
     ]
    }
   ],
   "source": [
    "print(\"Dataset length: \", len(df4))\n",
    "print(\"Dataset shape: \", df4.shape)"
   ]
  },
  {
   "cell_type": "code",
   "execution_count": null,
   "id": "76793c06",
   "metadata": {},
   "outputs": [],
   "source": []
  }
 ],
 "metadata": {
  "kernelspec": {
   "display_name": "Python 3",
   "language": "python",
   "name": "python3"
  },
  "language_info": {
   "codemirror_mode": {
    "name": "ipython",
    "version": 3
   },
   "file_extension": ".py",
   "mimetype": "text/x-python",
   "name": "python",
   "nbconvert_exporter": "python",
   "pygments_lexer": "ipython3",
   "version": "3.8.7"
  }
 },
 "nbformat": 4,
 "nbformat_minor": 5
}
